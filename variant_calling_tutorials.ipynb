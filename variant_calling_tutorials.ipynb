{
 "cells": [
  {
   "cell_type": "markdown",
   "metadata": {},
   "source": [
    "# below are the variant calling tutorials of  exome samples on hg19\n",
    "\n",
    "this tutorial is under /home/hq2130/tutorials\n",
    "\n",
    "### Overall, we need a workflow driver to automate the process. "
   ]
  },
  {
   "cell_type": "markdown",
   "metadata": {},
   "source": [
    "# step 1: from fastq to bams\n",
    "\n",
    "need input file with read group info, need bwa as executable, output is a bam in bamname.align folder"
   ]
  },
  {
   "cell_type": "code",
   "execution_count": 1,
   "metadata": {},
   "outputs": [
    {
     "name": "stdout",
     "output_type": "stream",
     "text": [
      "total 22G\r\n",
      "-rwxrwx--- 1 hq2130 shenlab 1.6G Jul 12  2018 1-04687-01_P1.fastq.gz\r\n",
      "-rwxrwx--- 1 hq2130 shenlab 1.8G Jul 12  2018 1-04687-01_P2.fastq.gz\r\n",
      "-rwxrwx--- 1 hq2130 shenlab 2.0G Jul 12  2018 1-04687-02_P1.fastq.gz\r\n",
      "-rwxrwx--- 1 hq2130 shenlab 2.3G Jul 12  2018 1-04687-02_P2.fastq.gz\r\n",
      "-rwxrwx--- 1 hq2130 shenlab 1.5G Jul 12  2018 1-04687_P1.fastq.gz\r\n",
      "-rwxrwx--- 1 hq2130 shenlab 1.8G Jul 12  2018 1-04687_P2.fastq.gz\r\n",
      "-rwxrwx--- 1 hq2130 shenlab 1.7G Jul 12 15:21 1-07134-01_P1.fastq.gz\r\n",
      "-rwxrwx--- 1 hq2130 shenlab 2.0G Jul 12 15:22 1-07134-01_P2.fastq.gz\r\n",
      "-rwxrwx--- 1 hq2130 shenlab 1.5G Jul 12 15:22 1-07134-02_P1.fastq.gz\r\n",
      "-rwxrwx--- 1 hq2130 shenlab 1.8G Jul 12 15:23 1-07134-02_P2.fastq.gz\r\n",
      "-rwxrwx--- 1 hq2130 shenlab 1.7G Jul 12 15:23 1-07134_P1.fastq.gz\r\n",
      "-rwxrwx--- 1 hq2130 shenlab 2.0G Jul 12 15:24 1-07134_P2.fastq.gz\r\n"
     ]
    }
   ],
   "source": [
    "# fastq files are under fastq folder\n",
    "!ls -lh fastq/"
   ]
  },
  {
   "cell_type": "code",
   "execution_count": 2,
   "metadata": {},
   "outputs": [
    {
     "name": "stdout",
     "output_type": "stream",
     "text": [
      "/home/hq2130/tutorials/fastq/1-07134-02_P1.fastq.gz\t@RG\\tID:1-07134-02\\tPL:ILLUMINA\\tPU:K00175:13\\tLB:ATGTAA+TGACAT\\tSM:1-07134-02\\tCN:COLUMBIA_YS_LAB\t/home/hq2130/tutorials/fastq/1-07134-02_P2.fastq.gz\r\n",
      "/home/hq2130/tutorials/fastq/1-07134_P1.fastq.gz\t@RG\\tID:1-07134\\tPL:ILLUMINA\\tPU:K00175:13\\tLB:ATGTCA+TGACAT\\tSM:1-07134\\tCN:COLUMBIA_YS_LAB\t/home/hq2130/tutorials/fastq/1-07134_P2.fastq.gz\r\n",
      "/home/hq2130/tutorials/fastq/1-07134-01_P1.fastq.gz\t@RG\\tID:1-07134-01\\tPL:ILLUMINA\\tPU:K00175:13\\tLB:AGTTGC+GGAACT\\tSM:1-07134-01\\tCN:COLUMBIA_YS_LAB\t/home/hq2130/tutorials/fastq/1-07134-01_P2.fastq.gz\r\n",
      "/home/hq2130/tutorials/fastq/1-04687_P1.fastq.gz\t@RG\\tID:1-04687\\tPL:ILLUMINA\\tPU:K00175:9\\tLB:CGATGT+ACATCG\\tSM:1-04687\\tCN:COLUMBIA_YS_LAB\t/home/hq2130/tutorials/fastq/1-04687_P2.fastq.gz\r\n",
      "/home/hq2130/tutorials/fastq/1-04687-02_P1.fastq.gz\t@RG\\tID:1-04687-02\\tPL:ILLUMINA\\tPU:K00162:21\\tLB:GCCAAT+NTTGGC\\tSM:1-04687-02\\tCN:COLUMBIA_YS_LAB\t/home/hq2130/tutorials/fastq/1-04687-02_P2.fastq.gz\r\n",
      "/home/hq2130/tutorials/fastq/1-04687-01_P1.fastq.gz\t@RG\\tID:1-04687-01\\tPL:ILLUMINA\\tPU:K00175:9\\tLB:TGACCA+TGGTCA\\tSM:1-04687-01\\tCN:COLUMBIA_YS_LAB\t/home/hq2130/tutorials/fastq/1-04687-01_P2.fastq.gz"
     ]
    }
   ],
   "source": [
    "### NEED to add how to generate this file \n",
    "# read1_location, read_group, read2_location\n",
    "!cat fastq_head.txt"
   ]
  },
  {
   "cell_type": "code",
   "execution_count": 4,
   "metadata": {},
   "outputs": [
    {
     "name": "stdout",
     "output_type": "stream",
     "text": [
      "Your job-array 859297.1-6:1 (\"BWAMEM\") has been submitted\r\n"
     ]
    }
   ],
   "source": [
    "## submit array jobs to cluster\n",
    "### pay attention to number of CPU threads. Default is 1. \n",
    "EXOMPPLN='/home/yufengshen/CUMC/Exome-pipeline-Jiayao'\n",
    "!qsub  -t 1-6 $EXOMPPLN/ExmAln.1a.Align_Fastq_to_Bam_with_BWAmem.sh -i fastq_head.txt -r $EXOMPPLN/WES_Pipeline_References.b37.biocluster.sh"
   ]
  },
  {
   "cell_type": "markdown",
   "metadata": {},
   "source": [
    "# step 2: bams to gvcf\n",
    "pay attentions to the target file, needs tabix, bgzip"
   ]
  },
  {
   "cell_type": "code",
   "execution_count": 5,
   "metadata": {
    "scrolled": true
   },
   "outputs": [
    {
     "name": "stdout",
     "output_type": "stream",
     "text": [
      "/home/hq2130/tutorials/bam/1-04687-01.bam\r\n",
      "/home/hq2130/tutorials/bam/1-04687-02.bam\r\n",
      "/home/hq2130/tutorials/bam/1-04687.bam\r\n",
      "/home/hq2130/tutorials/bam/1-07134-01.bam\r\n",
      "/home/hq2130/tutorials/bam/1-07134-02.bam\r\n",
      "/home/hq2130/tutorials/bam/1-07134.bam\r\n"
     ]
    }
   ],
   "source": [
    "## get the list of bam files. \n",
    "!cat bam.txt"
   ]
  },
  {
   "cell_type": "code",
   "execution_count": 8,
   "metadata": {},
   "outputs": [
    {
     "name": "stdout",
     "output_type": "stream",
     "text": [
      "Your job-array 859300.1-6:1 (\"HaplotypeCaller_GVCFmode\") has been submitted\r\n"
     ]
    }
   ],
   "source": [
    "### GATK haplotypecaller to generate gVCF file for each sample.\n",
    "### We should investigate how much RAM is really needed for exome or WGS samples. \n",
    "\n",
    "EXOMPPLN='/home/yufengshen/CUMC/Exome-pipeline-Jiayao'\n",
    "!qsub  -t 1-6 $EXOMPPLN/ExmAln.2.HaplotypeCaller_GVCFmode.sh -i bam.txt -r $EXOMPPLN/WES_Pipeline_References.b37.biocluster.sh -t src/MedExome_hg19_capture_targets_reformat.bed"
   ]
  },
  {
   "cell_type": "markdown",
   "metadata": {
    "collapsed": true
   },
   "source": [
    "# step 3: Merge individual gvcf to large gvcfs\n",
    "This step is to reduce memory usage in variant calling, GATK recommand combine 200 gvcfs for exome, for whole genome, combine a trio\n",
    "the inputs need to end with 'list'"
   ]
  },
  {
   "cell_type": "code",
   "execution_count": 25,
   "metadata": {},
   "outputs": [
    {
     "name": "stdout",
     "output_type": "stream",
     "text": [
      "test_00.list\r\n",
      "test_01.list\r\n"
     ]
    }
   ],
   "source": [
    "### list of lists. Each list contains the files to be merged. \n",
    "!cat gvcf.list"
   ]
  },
  {
   "cell_type": "code",
   "execution_count": 26,
   "metadata": {},
   "outputs": [
    {
     "name": "stdout",
     "output_type": "stream",
     "text": [
      "/home/hq2130/tutorials/gvcf/1-04687-01.g.vcf.gz\r\n",
      "/home/hq2130/tutorials/gvcf/1-04687-02.g.vcf.gz\r\n",
      "/home/hq2130/tutorials/gvcf/1-04687.g.vcf.gz\r\n"
     ]
    }
   ],
   "source": [
    "!cat test_00.list"
   ]
  },
  {
   "cell_type": "code",
   "execution_count": 27,
   "metadata": {},
   "outputs": [
    {
     "name": "stdout",
     "output_type": "stream",
     "text": [
      "Your job-array 859312.1-2:1 (\"MergeGVCF\") has been submitted\r\n"
     ]
    }
   ],
   "source": [
    "EXOMPPLN='/home/yufengshen/CUMC/Exome-pipeline-Jiayao'\n",
    "!qsub  -t 1-2  $EXOMPPLN/ExmAdHoc.6.Merge_gVCFs.sh -i gvcf.list -r $EXOMPPLN/WES_Pipeline_References.b37.biocluster.sh"
   ]
  },
  {
   "cell_type": "markdown",
   "metadata": {},
   "source": [
    "# step 4: gvcfs -> vcf, each vcf corresponding to the region  "
   ]
  },
  {
   "cell_type": "code",
   "execution_count": 28,
   "metadata": {},
   "outputs": [
    {
     "name": "stdout",
     "output_type": "stream",
     "text": [
      "/home/hq2130/tutorials/cmbgvcf/test_00.Combined.g.vcf.gz\r\n",
      "/home/hq2130/tutorials/cmbgvcf/test_01.Combined.g.vcf.gz\r\n"
     ]
    }
   ],
   "source": [
    "## list of merged gVCF files\n",
    "!cat cmbgvcf.list"
   ]
  },
  {
   "cell_type": "code",
   "execution_count": 30,
   "metadata": {},
   "outputs": [
    {
     "name": "stdout",
     "output_type": "stream",
     "text": [
      "Your job-array 859314.1-10:1 (\"JointGenotyping\") has been submitted\r\n"
     ]
    }
   ],
   "source": [
    "### GATK Genotyper.  We are considering to replace it with GLNexus. \n",
    "### We need a mechanism to automatically detect failed jobs and re-submit. \n",
    "### We should investigate how much RAM is really needed for exome or WGS samples. \n",
    "# split the target file into 10 chunks, pay attention to option -j and -t\n",
    "EXOMPPLN='/home/yufengshen/CUMC/Exome-pipeline-Jiayao'\n",
    "!qsub -t 1-10  $EXOMPPLN/ExmVC.1hc.GenotypeGVCFs.sh -j 10 -i cmbgvcf.list -r $EXOMPPLN/WES_Pipeline_References.b37.biocluster.sh -t src/MedExome_hg19_capture_targets_reformat.bed"
   ]
  },
  {
   "cell_type": "markdown",
   "metadata": {},
   "source": [
    "# step 5: combine split vcfs"
   ]
  },
  {
   "cell_type": "code",
   "execution_count": 33,
   "metadata": {},
   "outputs": [
    {
     "name": "stdout",
     "output_type": "stream",
     "text": [
      "Your job 859317 (\"MergeVCF\") has been submitted\r\n"
     ]
    }
   ],
   "source": [
    "EXOMPPLN='/home/yufengshen/CUMC/Exome-pipeline-Jiayao'\n",
    "!qsub $EXOMPPLN/ExmVC.2.MergeVCF.sh -i cmbgvcf.splitfiles/ -r $EXOMPPLN/WES_Pipeline_References.b37.biocluster.sh"
   ]
  },
  {
   "cell_type": "markdown",
   "metadata": {},
   "source": [
    "# step 6 VQSR(optional)\n",
    "\n",
    "not very useful"
   ]
  },
  {
   "cell_type": "code",
   "execution_count": 34,
   "metadata": {},
   "outputs": [
    {
     "name": "stdout",
     "output_type": "stream",
     "text": [
      "Your job 859318 (\"VQSR\") has been submitted\r\n"
     ]
    }
   ],
   "source": [
    "!qsub $EXOMPPLN/ExmVC.4.RecalibrateVariantQuality.sh -i cmbgvcf.rawvariants.vcf.gz  -r $EXOMPPLN/WES_Pipeline_References.b37.biocluster.sh"
   ]
  },
  {
   "cell_type": "markdown",
   "metadata": {},
   "source": [
    "# step 7: Annotate vcf with ANNOVAR\n",
    "ask jiayao for how to annotate with annovar on large files, need to split first then annotate then combine"
   ]
  },
  {
   "cell_type": "code",
   "execution_count": 36,
   "metadata": {},
   "outputs": [
    {
     "name": "stdout",
     "output_type": "stream",
     "text": [
      "Your job 859320 (\"ANNOVAR\") has been submitted\r\n"
     ]
    }
   ],
   "source": [
    "### default, each line is a position. If there are multiple alternative alleles, the corresponding annotations are separately by , \n",
    "!qsub  $EXOMPPLN/Test.AnnotateVCF_direct.sh -i cmbgvcf.rawvariants.recalibrated.vcf -r $EXOMPPLN/WES_Pipeline_References.b37.biocluster.sh"
   ]
  },
  {
   "cell_type": "code",
   "execution_count": null,
   "metadata": {
    "collapsed": true
   },
   "outputs": [],
   "source": []
  }
 ],
 "metadata": {
  "kernelspec": {
   "display_name": "Python 3",
   "language": "python",
   "name": "python3"
  },
  "language_info": {
   "codemirror_mode": {
    "name": "ipython",
    "version": 3
   },
   "file_extension": ".py",
   "mimetype": "text/x-python",
   "name": "python",
   "nbconvert_exporter": "python",
   "pygments_lexer": "ipython3",
   "version": "3.6.2"
  }
 },
 "nbformat": 4,
 "nbformat_minor": 2
}
